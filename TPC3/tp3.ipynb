{
 "cells": [
  {
   "cell_type": "code",
   "execution_count": 3,
   "metadata": {},
   "outputs": [
    {
     "name": "stdout",
     "output_type": "stream",
     "text": [
      "Escolhe o modo em que queres jogar!\n",
      "0\n",
      "Pensa num número de 0 a 100 e vê se eu consigo adivinhar.\n",
      "O computador precisou de 1 tentativas para acertar!\n",
      "O jogo acabou, escolhe de novo o modo que queres jogar ou sai do jogo!\n"
     ]
    }
   ],
   "source": [
    "#Escolher o modo\n",
    "print(\"Escolhe o modo em que queres jogar!\")\n",
    "modo = int( input(\"Qual o modo que quer escolher? 0- Deixa o computador adivinhar o teu número! 1- Adivinha o número que o computador esconde!\"))\n",
    "\n",
    "\n",
    "sup= 100\n",
    "inf=0\n",
    "n=0\n",
    "t=1\n",
    "\n",
    "#O computador adivinha o número entre 0 e 100\n",
    "\n",
    "if modo == 0:\n",
    "     print(modo)\n",
    "     print(\"Pensa num número de 0 a 100 e vê se eu consigo adivinhar.\")    \n",
    "     pergunta=str()\n",
    "     acertou = str(\"acertou\")\n",
    "     while pergunta!=str(acertou):\n",
    "       n=n+1\n",
    "       x=int((sup+inf)/2)\n",
    "       pergunta = input(\"O seu número é \"+ str(x)+ \"?\" )\n",
    "       if pergunta == \"maior\":\n",
    "         inf = x\n",
    "       else:\n",
    "         sup = x\n",
    "     print(\"O computador precisou de \" + str(n) + \" tentativas para acertar!\")\n",
    "     print(\"O jogo acabou, escolhe de novo o modo que queres jogar ou sai do jogo!\")\n",
    "     acabou = int(input(\"O jogo acabou!|2 -sair do jogo| 3- ir para o menu\"))\n",
    "     if acabou == 3:\n",
    "       modo = int( input(\"Qual o modo que quer escolher? 0- Deixa o computador adivinhar o teu número! 1- Adivinha o número que o computador esconde!\"))\n",
    "     if acabou == 2:\n",
    "       print(\"fim de jogo!\")\n",
    "      \n",
    "\n",
    "#O jogador adivinhar o número\n",
    "elif modo == 1:\n",
    "     print(modo)\n",
    "     print(\"Vê-se consegues adivinhar o número que estou a pensar!\")\n",
    "     import random\n",
    "     r = random.randrange(1,100)\n",
    "     x = int(input(\"Diga um número\"))\n",
    "     print(x)\n",
    "     while r!=x:\n",
    "        t = t + 1\n",
    "        if r>x:\n",
    "         print(\"maior\")\n",
    "        else:\n",
    "         print(\"menor\")\n",
    "        x =  int(input(\"Diga um numero\"))\n",
    "        print(x)\n",
    "     print(\"Parabéns, só precisaste de\", t ,\"tentativas para acertares!\")\n",
    "     print(\"O jogo acabou, escolhe de novo o modo que queres jogar ou sai do jogo!\")\n",
    "     acabou = int(input(\"O jogo acabou!|2 -sair do jogo| 3- ir para o menu\"))\n",
    "     if acabou == 3:\n",
    "       modo = int( input(\"Qual o modo que quer escolher? 0- Deixa o computador adivinhar o teu número! 1- Adivinha o número que o computador esconde!\"))\n",
    "     if acabou == 2:\n",
    "       print(\"fim de jogo!\")\n",
    "      "
   ]
  }
 ],
 "metadata": {
  "kernelspec": {
   "display_name": "Python 3",
   "language": "python",
   "name": "python3"
  },
  "language_info": {
   "codemirror_mode": {
    "name": "ipython",
    "version": 3
   },
   "file_extension": ".py",
   "mimetype": "text/x-python",
   "name": "python",
   "nbconvert_exporter": "python",
   "pygments_lexer": "ipython3",
   "version": "3.11.5"
  },
  "orig_nbformat": 4
 },
 "nbformat": 4,
 "nbformat_minor": 2
}
